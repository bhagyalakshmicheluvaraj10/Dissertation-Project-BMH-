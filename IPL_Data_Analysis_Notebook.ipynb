{
 "cells": [
  {
   "cell_type": "markdown",
   "id": "7168f580",
   "metadata": {},
   "source": [
    "# IPL Data Analysis"
   ]
  },
  {
   "cell_type": "markdown",
   "id": "a62ce3f0",
   "metadata": {},
   "source": [
    "## Overview"
   ]
  },
  {
   "cell_type": "markdown",
   "id": "081f3557",
   "metadata": {},
   "source": [
    "This notebook contains the analysis of IPL cricket data, including insights into team and player performance, match outcomes, and various key metrics related to both batting and bowling."
   ]
  },
  {
   "cell_type": "markdown",
   "id": "3f31c1b5",
   "metadata": {},
   "source": [
    "## Data Cleaning and Exploration"
   ]
  },
  {
   "cell_type": "markdown",
   "id": "5d5ca903",
   "metadata": {},
   "source": [
    "The datasets were loaded, cleaned, and inspected to ensure they were ready for analysis. No missing values or duplicates were found."
   ]
  },
  {
   "cell_type": "markdown",
   "id": "e59e48f3",
   "metadata": {},
   "source": [
    "## Initial Data Analysis"
   ]
  },
  {
   "cell_type": "markdown",
   "id": "cebc148d",
   "metadata": {},
   "source": [
    "### Top 10 Batsmen by Runs Scored"
   ]
  },
  {
   "cell_type": "markdown",
   "id": "8739c021",
   "metadata": {},
   "source": [
    "### Top 10 Bowlers by Wickets Taken"
   ]
  },
  {
   "cell_type": "markdown",
   "id": "9b4ad0d2",
   "metadata": {},
   "source": [
    "### Team Performance by Number of Wins"
   ]
  },
  {
   "cell_type": "markdown",
   "id": "e239ce78",
   "metadata": {},
   "source": [
    "## Additional Analysis"
   ]
  },
  {
   "cell_type": "markdown",
   "id": "2459d8d6",
   "metadata": {},
   "source": [
    "### Enhanced Match Outcome Analysis"
   ]
  },
  {
   "cell_type": "markdown",
   "id": "4d17994a",
   "metadata": {},
   "source": [
    "### Detailed Batting Metrics by Over"
   ]
  },
  {
   "cell_type": "markdown",
   "id": "23c8430f",
   "metadata": {},
   "source": [
    "### Detailed Bowling Metrics"
   ]
  },
  {
   "cell_type": "code",
   "execution_count": null,
   "id": "45fa93e6",
   "metadata": {},
   "outputs": [],
   "source": [
    "import pandas as pd\n",
    "\n",
    "# Load the datasets\n",
    "fact_bowling = pd.read_csv('fact_bowling_summary.csv')\n",
    "fact_batting = pd.read_csv('fact_bating_summary.csv')\n",
    "dim_players = pd.read_csv('dim_players.csv')\n",
    "dim_match_summary = pd.read_csv('dim_match_summary.csv')\n",
    "\n",
    "# Initial Data Analysis\n",
    "# Top Batsmen Analysis\n",
    "top_batsmen = fact_batting.groupby('batsmanName').agg({\n",
    "    'runs': 'sum',\n",
    "    'balls': 'sum',\n",
    "    '4s': 'sum',\n",
    "    '6s': 'sum'\n",
    "}).reset_index()\n",
    "top_batsmen['SR'] = (top_batsmen['runs'] / top_batsmen['balls']) * 100\n",
    "top_batsmen = top_batsmen.sort_values(by='runs', ascending=False).head(10)\n",
    "\n",
    "# Top Bowlers Analysis\n",
    "top_bowlers = fact_bowling.groupby('bowlerName').agg({\n",
    "    'wickets': 'sum',\n",
    "    'overs': 'sum',\n",
    "    'runs': 'sum'\n",
    "}).reset_index()\n",
    "top_bowlers['economy'] = top_bowlers['runs'] / top_bowlers['overs']\n",
    "top_bowlers = top_bowlers.sort_values(by='wickets', ascending=False).head(10)\n",
    "\n",
    "# Team Performance Analysis\n",
    "team_performance = dim_match_summary.groupby('winner').agg({'margin': 'count'}).reset_index()\n",
    "team_performance.columns = ['Team', 'Wins']\n",
    "team_performance = team_performance.sort_values(by='Wins', ascending=False)\n"
   ]
  },
  {
   "cell_type": "code",
   "execution_count": null,
   "id": "99cf38c6",
   "metadata": {},
   "outputs": [],
   "source": [
    "# Enhanced Match Outcome Analysis\n",
    "win_loss_analysis = dim_match_summary.groupby(['team1', 'team2', 'winner']).size().unstack(fill_value=0)\n",
    "win_loss_analysis['Total_Matches'] = win_loss_analysis.sum(axis=1)\n",
    "win_loss_analysis['Win_Ratio'] = win_loss_analysis.max(axis=1) / win_loss_analysis['Total_Matches']\n",
    "\n",
    "# Detailed Batting Metrics by Over\n",
    "fact_batting['over'] = fact_batting['balls'] // 6 + 1\n",
    "batting_by_over = fact_batting.groupby(['batsmanName', 'over']).agg({\n",
    "    'runs': 'sum',\n",
    "    'balls': 'sum',\n",
    "    '4s': 'sum',\n",
    "    '6s': 'sum'\n",
    "}).reset_index()\n",
    "\n",
    "# Detailed Bowling Metrics\n",
    "bowling_detailed_metrics = fact_bowling.groupby('bowlerName').agg({\n",
    "    '0s': 'sum',\n",
    "    'wides': 'sum',\n",
    "    'noBalls': 'sum',\n",
    "    'wickets': 'sum'\n",
    "}).reset_index()\n",
    "\n",
    "# Displaying the results\n",
    "win_loss_analysis.head(), batting_by_over.head(), bowling_detailed_metrics.head()"
   ]
  }
 ],
 "metadata": {},
 "nbformat": 4,
 "nbformat_minor": 5
}